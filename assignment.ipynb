{
  "nbformat": 4,
  "nbformat_minor": 0,
  "metadata": {
    "colab": {
      "provenance": [],
      "authorship_tag": "ABX9TyO47bzXzrYsI+PB5tWC1Y7L",
      "include_colab_link": true
    },
    "kernelspec": {
      "name": "python3",
      "display_name": "Python 3"
    },
    "language_info": {
      "name": "python"
    }
  },
  "cells": [
    {
      "cell_type": "markdown",
      "metadata": {
        "id": "view-in-github",
        "colab_type": "text"
      },
      "source": [
        "<a href=\"https://colab.research.google.com/github/DIYA238/assignment-/blob/main/assignment.ipynb\" target=\"_parent\"><img src=\"https://colab.research.google.com/assets/colab-badge.svg\" alt=\"Open In Colab\"/></a>"
      ]
    },
    {
      "cell_type": "markdown",
      "source": [
        "Q1. L is a list defined as L= [11, 12, 13, 14].\n",
        "\\(i) WAP to add 50 and 60 to L.\n",
        "\\(ii) WAP to remove 11 and 13from L.\n",
        "\\(iii) WAP to sort L in ascending order.\n",
        "\\(iv) WAP to sort L in descending order.\n",
        "\\(v) WAP to search for 13 in L.\n",
        "\\(vi) WAP to count the number of elements present in L.\n",
        "\\(vii) WAP to sum all the elements in L.\n",
        "\\(viii) WAP to sum all ODD numbers in L.\n",
        "\\(ix) WAP to sum all EVEN numbers in L.\n",
        "\\(x) WAP to sum all PRIME numbers in L.\n",
        "\\(xi) WAP to clear all the elements in L.\n",
        "\\(xii) WAP to delete L."
      ],
      "metadata": {
        "id": "hqBmX4nYHDXk"
      }
    },
    {
      "cell_type": "code",
      "execution_count": 8,
      "metadata": {
        "colab": {
          "base_uri": "https://localhost:8080/"
        },
        "id": "M7TWVvdSG1XZ",
        "outputId": "e0f57f7a-5abf-4641-a96a-0500fdd70634"
      },
      "outputs": [
        {
          "output_type": "stream",
          "name": "stdout",
          "text": [
            "the original list : [11, 12, 13, 14]\n",
            "after adding 50 and 60 in l  [11, 12, 13, 14, 50, 60]\n",
            "after deleting elements from l  [12, 14, 50, 60]\n",
            "in ascending order [12, 14, 50, 60]\n",
            "in descending order [60, 50, 14, 12]\n",
            "the number of elents in l are: 4\n",
            "the sum of all numbers in l are: 136\n",
            "the sum of even numbers in l are: 136\n",
            "the sum of odd numbers in l are: 0\n",
            "the sum of all prime numbers is 0\n",
            "[]\n"
          ]
        }
      ],
      "source": [
        "l= [11, 12, 13, 14]\n",
        "print (\"the original list :\",l)\n",
        "l.append(50)\n",
        "l.append(60)\n",
        "print(\"after adding 50 and 60 in l \",l)\n",
        "del l[0]\n",
        "del l[1]\n",
        "print (\"after deleting elements from l \",l)\n",
        "l.sort()\n",
        "print(\"in ascending order\",l)\n",
        "l.sort(reverse=True)\n",
        "print(\"in descending order\",l)\n",
        "print (\"the number of elents in l are:\",len(l))\n",
        "print (\"the sum of all numbers in l are:\",sum(l))\n",
        "s = 0\n",
        "for i in l :\n",
        "  if i%2==0:\n",
        "    s = s+i\n",
        "print(\"the sum of even numbers in l are:\",s)\n",
        "t= 0\n",
        "for i in l :\n",
        "  if i%2!=0:\n",
        "    t = t+i\n",
        "print(\"the sum of odd numbers in l are:\",t)\n",
        "a = 0\n",
        "for i in range(2,4):\n",
        "  for v in range (2,i//2 +1 ):\n",
        "   if i%v==0:\n",
        "    break\n",
        "   else :\n",
        "     a = a+i\n",
        "print(\"the sum of all prime numbers is\", a)\n",
        "l.clear()\n",
        "print (l)\n",
        "#del l\n",
        "#print (l)#will show error"
      ]
    },
    {
      "cell_type": "markdown",
      "source": [
        " D is a dictionary defined as D= {1:5.6, 2:7.8, 3:6.6, 4:8.7, 5:7.7}.\n",
        "(i) WAP to add new entry in D; key=8 and value is 8.8\n",
        "(ii) WAP to remove key=2.\n",
        "(iii) WAP to check weather 6 key is present in D.\n",
        "(iv) WAP to count the number of elements present in D.\n",
        "(v) WAP to add all the values present D.\n",
        "(vi) WAP to update the value of 3 to 7.1.\n",
        "(vii) WAP to clear the dictionary."
      ],
      "metadata": {
        "id": "Er8t4BB_LREh"
      }
    },
    {
      "cell_type": "code",
      "source": [
        "d= {1:5.6, 2:7.8, 3:6.6, 4:8.7, 5:7.7}\n",
        "d[8]=8.8\n",
        "print (d)\n",
        "del d[2]\n",
        "print (d)\n",
        "print (\"Is Key 6 Present    --> \", 2 in d)\n",
        "print(\"NUMBER OF ELEMENTS IN d ARE :\",len(d))\n",
        "print(\"SUM OF ALL VALUES IN d ARE :\",sum(d.values()))\n",
        "print(\"SUM OF ALL KEYS IN d ARE :\",sum(d.keys()))\n",
        "d[3]= 7.1\n",
        "print(d)\n",
        "d.clear()\n",
        "print(d)"
      ],
      "metadata": {
        "colab": {
          "base_uri": "https://localhost:8080/"
        },
        "id": "OsPN04IdLit9",
        "outputId": "f3670da3-7004-45e4-c57f-51688e50c8f9"
      },
      "execution_count": 1,
      "outputs": [
        {
          "output_type": "stream",
          "name": "stdout",
          "text": [
            "{1: 5.6, 2: 7.8, 3: 6.6, 4: 8.7, 5: 7.7, 8: 8.8}\n",
            "{1: 5.6, 3: 6.6, 4: 8.7, 5: 7.7, 8: 8.8}\n",
            "Is Key 6 Present    -->  False\n",
            "NUMBER OF ELEMENTS IN d ARE : 5\n",
            "SUM OF ALL VALUES IN d ARE : 37.4\n",
            "SUM OF ALL KEYS IN d ARE : 21\n",
            "{1: 5.6, 3: 7.1, 4: 8.7, 5: 7.7, 8: 8.8}\n",
            "{}\n"
          ]
        }
      ]
    },
    {
      "cell_type": "markdown",
      "source": [
        "S1 is a set defined as S1= [10, 20, 30, 40, 50, 60].\n",
        "                                      S2 is a set defined as S2= [40, 50, 60, 70, 80, 90].\n",
        "(i) WAP to add 55 and 66 in Set S1.\n",
        "(ii) WAP to remove 10 and 30 from Set S1.\n",
        "(iii) WAP to check whether 40 is present in S1.\n",
        "(iv) WAP to find the union between S1 and S2.\n",
        "(v) WAP to find the intersection between S1 and S2.\n",
        "(vi) WAP to find the S1 - S2."
      ],
      "metadata": {
        "id": "llHZ83Hc1ilg"
      }
    },
    {
      "cell_type": "code",
      "source": [
        "S1= set ([10, 20, 30, 40, 50, 60])\n",
        "S2= set ([40, 50, 60, 70, 80, 90])\n",
        "print (\"S1:\",S1)\n",
        "print (\"S2:\",S2)\n",
        "S1.add(55)\n",
        "S1.add(66)\n",
        "print(\"AFTER ADDING S1\",S1)\n",
        "S1.remove(10)\n",
        "S1.remove(30)\n",
        "print(\"S1 AFTER DELETION \",S1)\n",
        "print (\"Is 40 Present in S1 :\", 40 in S1)\n",
        "print (\"Union of S1 and S2 : \", S1.union(S2))\n",
        "print (\"Union of S1 and S2 :\", S1.union(S2))\n",
        "S3 = S1 - S2\n",
        "print(\"S1 - S2 = \",S3)\n",
        "\n"
      ],
      "metadata": {
        "colab": {
          "base_uri": "https://localhost:8080/"
        },
        "id": "NeanPiAj1q7t",
        "outputId": "3b697096-9aa1-4a8b-c69e-31f0f73909b5"
      },
      "execution_count": 6,
      "outputs": [
        {
          "output_type": "stream",
          "name": "stdout",
          "text": [
            "S1: {40, 10, 50, 20, 60, 30}\n",
            "S2: {70, 40, 80, 50, 90, 60}\n",
            "AFTER ADDING S1 {66, 40, 10, 50, 20, 55, 60, 30}\n",
            "S1 AFTER DELETION  {66, 40, 50, 20, 55, 60}\n",
            "Is 40 Present in S1 : True\n",
            "Union of S1 and S2 :  {66, 70, 40, 80, 50, 20, 55, 90, 60}\n",
            "Union of S1 and S2 : {66, 70, 40, 80, 50, 20, 55, 90, 60}\n",
            "S1 - S2 =  {66, 20, 55}\n"
          ]
        }
      ]
    },
    {
      "cell_type": "markdown",
      "source": [
        "Write the following program.\n",
        "(i) WAP to print 100 random strings whose length between 6 and 8.\n",
        "(ii) WAP to print all prime numbers between 600 and 800.\n",
        "(iii) WAP to print all numbers between 100 and 1000 that are divisible by 7 and 9."
      ],
      "metadata": {
        "id": "XJ7mGAIT3e3z"
      }
    },
    {
      "cell_type": "code",
      "source": [
        "import random as r\n",
        "import string as s\n",
        "for i in range (0,100):\n",
        "  l = r.randint(6,8)\n",
        "  a =  r.sample (s.ascii_letters,l )\n",
        "  print(\"\".join(a))"
      ],
      "metadata": {
        "colab": {
          "base_uri": "https://localhost:8080/"
        },
        "id": "Tr9lz9Ik3jDa",
        "outputId": "3811b369-2341-4fb0-df60-699c1859cd6a"
      },
      "execution_count": 14,
      "outputs": [
        {
          "output_type": "stream",
          "name": "stdout",
          "text": [
            "gevKaO\n",
            "MubNKBcr\n",
            "QVrlSwP\n",
            "bxBMhP\n",
            "HGsqmW\n",
            "VONBIc\n",
            "rUmvRt\n",
            "HPQYjI\n",
            "lEhRsGKX\n",
            "UvnNREca\n",
            "NFurWURc\n",
            "PejUDB\n",
            "APOirjHe\n",
            "QrVkjgSJ\n",
            "nHRVrhy\n",
            "qzFcOfk\n",
            "JIjOwWC\n",
            "NPfEsuV\n",
            "AftlvLBa\n",
            "THeNPbz\n",
            "RSgVmcQ\n",
            "fGngPQ\n",
            "CvoustZm\n",
            "HgrOoad\n",
            "NzypTvXE\n",
            "HqXWDmtf\n",
            "sadFIQX\n",
            "bBCVxLq\n",
            "YDEWMsL\n",
            "AXbSQfwY\n",
            "lTLmOg\n",
            "KetFsHfi\n",
            "SDWEmXL\n",
            "DnCiQzR\n",
            "WygYmrC\n",
            "dqnteRx\n",
            "OWhKDt\n",
            "orDcBmsP\n",
            "jkLKdBV\n",
            "ixpFRyZo\n",
            "rJxdHmbn\n",
            "oqgbNE\n",
            "IsUZLDOK\n",
            "yhZWxB\n",
            "dOrBclwj\n",
            "OzpGoC\n",
            "PkxcWpN\n",
            "OyPgqEC\n",
            "zbOVAa\n",
            "MCPmKDRw\n",
            "mEYnLPRX\n",
            "UxEZal\n",
            "zxYOkFZG\n",
            "ZOnEcs\n",
            "pjuQGBKN\n",
            "UnoRblF\n",
            "oMXnhaWA\n",
            "XnPgZhy\n",
            "zmSHDg\n",
            "lneEojU\n",
            "RfilWrP\n",
            "qCHveBDk\n",
            "LXcHqP\n",
            "CFtzdyWX\n",
            "AwbFSm\n",
            "aQpoUlK\n",
            "uVslRfKT\n",
            "QCDqmNX\n",
            "QctqSgIy\n",
            "NfeZbM\n",
            "yCPRnK\n",
            "Dmvsxj\n",
            "htKDIqo\n",
            "GbeNArFC\n",
            "AvpKWF\n",
            "basYtxX\n",
            "tJQvEmn\n",
            "TCZYcGiO\n",
            "PIHcQaW\n",
            "CNDQAJgw\n",
            "ePOHndjl\n",
            "iBQKtq\n",
            "eQPnYqz\n",
            "chRsWt\n",
            "SbMumQl\n",
            "qhcdsF\n",
            "aoZYSRbW\n",
            "qnBTjos\n",
            "mPUykV\n",
            "jEqrLPU\n",
            "RxsLzhEG\n",
            "MhinTSX\n",
            "VvLFaEyK\n",
            "cBVySmzi\n",
            "GmHRsKJ\n",
            "vfIEgx\n",
            "BPuEHW\n",
            "tJYupj\n",
            "XWcINaA\n",
            "tMeUwiGA\n"
          ]
        }
      ]
    },
    {
      "cell_type": "markdown",
      "source": [],
      "metadata": {
        "id": "o3nehnRc5t0B"
      }
    },
    {
      "cell_type": "markdown",
      "source": [
        "WAP to create two lists of 10 random numbers between 10 and 30; Find\n",
        "(i) Common numbers in the two lists\n",
        "(ii) Unique numbers in both the list\n",
        "(iii) Minimum in both the list\n",
        "(iv) Maximum in both the list\n",
        "(v) Sum of both the lists"
      ],
      "metadata": {
        "id": "TJCiaHup5xxS"
      }
    },
    {
      "cell_type": "code",
      "source": [
        "import random as r\n",
        "import string as s\n",
        "a =  r.sample (s.digits,10 )\n",
        "print(\"\".join(a))\n",
        "b=  r.sample (s.digits,10 )\n",
        "print(\"\".join(b))\n",
        "l = []\n",
        "q= []\n",
        "l=a\n",
        "q=b\n",
        "print (\"l: \",l)\n",
        "print (\"q: \",q)\n",
        "for i in l:\n",
        "  for j in q:\n",
        "    if i==j:\n",
        "      print (\"the common number is\",i)\n",
        "\n",
        "for i in l:\n",
        "    if i not in q:\n",
        "        print(\"The unique number in l is\", i)\n",
        "\n",
        "x =  min(l,q)\n",
        "print(\"min of both lists\",min(x))\n",
        "y = max(l,q)\n",
        "print(\"max of both lists\",max(y))\n",
        "l1 = list(map(int, l))  # ['5','7',...] → [5, 7, ...]\n",
        "q1 = list(map(int, q))\n",
        "z = l1 + q1\n",
        "print(\"sum of both lists\",sum(z))\n"
      ],
      "metadata": {
        "colab": {
          "base_uri": "https://localhost:8080/"
        },
        "id": "wbm2g2UV5un8",
        "outputId": "6d09e454-228b-4ba4-844b-5be09ff0f356"
      },
      "execution_count": 37,
      "outputs": [
        {
          "output_type": "stream",
          "name": "stdout",
          "text": [
            "5278146903\n",
            "5320694781\n",
            "l:  ['5', '2', '7', '8', '1', '4', '6', '9', '0', '3']\n",
            "q:  ['5', '3', '2', '0', '6', '9', '4', '7', '8', '1']\n",
            "the common number is 5\n",
            "the common number is 2\n",
            "the common number is 7\n",
            "the common number is 8\n",
            "the common number is 1\n",
            "the common number is 4\n",
            "the common number is 6\n",
            "the common number is 9\n",
            "the common number is 0\n",
            "the common number is 3\n",
            "min of both lists 0\n",
            "max of both lists 9\n",
            "sum of both lists 90\n"
          ]
        }
      ]
    },
    {
      "cell_type": "markdown",
      "source": [
        "WAP to create a list of 100 random numbers between 100 and 900. Count and print the:\n",
        "(i) All odd numbers\n",
        "(ii) All even numbers\n",
        "(iii) All prime numbers\n",
        "\n",
        "---\n",
        "\n"
      ],
      "metadata": {
        "id": "RE6xGDKI_rX_"
      }
    },
    {
      "cell_type": "code",
      "source": [
        "# ********************************************QUES IMPORTANT*****************************************************\n",
        "import random\n",
        "\n",
        "# Function to check if a number is prime\n",
        "def is_prime(num):\n",
        "    if num < 2:\n",
        "        return False\n",
        "    for i in range(2, int(num ** 0.5)+1):\n",
        "        if num % i == 0:\n",
        "            return False\n",
        "    return True\n",
        "random_numbers = [random.randint(100, 900) for _ in range(100)]\n",
        "odd_numbers = []\n",
        "even_numbers = []\n",
        "prime_numbers = []\n",
        "for n in random_numbers:\n",
        "    if n % 2 == 0:\n",
        "        even_numbers.append(n)\n",
        "    else:\n",
        "        odd_numbers.append(n)\n",
        "\n",
        "    if is_prime(n):\n",
        "        prime_numbers.append(n)\n",
        "print(\"All Odd Numbers:\")\n",
        "print(odd_numbers)\n",
        "print(\"\\nTotal Odd Numbers:\", len(odd_numbers))\n",
        "print (\"sum of all odd numbers:\",sum(odd_numbers))\n",
        "print(\"\\nAll Even Numbers:\")\n",
        "print(even_numbers)\n",
        "print(\"\\nTotal Even Numbers:\", len(even_numbers))\n",
        "print (\"sum of all even numbers:\",sum(even_numbers))\n",
        "print(\"\\nAll Prime Numbers:\")\n",
        "print(prime_numbers)\n",
        "print(\"\\nTotal Prime Numbers:\", len(prime_numbers))\n",
        "print (\"sum of all prime numbers:\",sum(prime_numbers))\n"
      ],
      "metadata": {
        "colab": {
          "base_uri": "https://localhost:8080/"
        },
        "id": "dsam6guJ_vTQ",
        "outputId": "43599fc3-793e-4386-b932-18e14d05e416"
      },
      "execution_count": 48,
      "outputs": [
        {
          "output_type": "stream",
          "name": "stdout",
          "text": [
            "All Odd Numbers:\n",
            "[283, 403, 357, 233, 453, 251, 851, 221, 651, 291, 347, 277, 819, 603, 323, 697, 527, 651, 105, 755, 281, 557, 825, 709, 377, 825, 827, 389, 183, 493, 409, 447, 757, 447, 511, 655, 847, 593, 525, 767, 343, 823, 419, 511, 659, 409, 645, 683, 129, 507, 373, 361, 497, 421]\n",
            "\n",
            "Total Odd Numbers: 54\n",
            "sum of all odd numbers: 27302\n",
            "\n",
            "All Even Numbers:\n",
            "[640, 278, 840, 110, 634, 424, 554, 638, 168, 366, 140, 442, 420, 870, 870, 250, 296, 320, 742, 248, 598, 816, 678, 892, 710, 706, 680, 286, 222, 106, 726, 394, 168, 184, 566, 210, 736, 110, 490, 686, 804, 804, 616, 526, 422, 110]\n",
            "\n",
            "Total Even Numbers: 46\n",
            "sum of all even numbers: 22496\n",
            "\n",
            "All Prime Numbers:\n",
            "[283, 233, 251, 347, 277, 281, 557, 709, 827, 389, 409, 757, 593, 823, 419, 659, 409, 683, 373, 421]\n",
            "\n",
            "Total Prime Numbers: 20\n",
            "sum of all prime numbers: 9700\n"
          ]
        }
      ]
    },
    {
      "cell_type": "markdown",
      "source": [
        "D is a dictionary defined as D={1:\"One\",2:\"Two\",3:\"Three\",4:\"Four\", 5:\"Five\"}.\n",
        "WAP to read all the keys and values from dictionary and write to the file in the given below format.\n",
        "Key1, Value1\n",
        "Key2, Value2\n",
        "Key3, Value3"
      ],
      "metadata": {
        "id": "q6TOAXA_D9kP"
      }
    },
    {
      "cell_type": "code",
      "source": [
        "D={1:\"One\",2:\"Two\",3:\"Three\",4:\"Four\", 5:\"Five\"}\n",
        "F = open('output.txt','w')\n",
        "\n",
        "for key, value in D.items():\n",
        "  F.write(f\"{key}, {value}\\n\")\n",
        "F.close()\n"
      ],
      "metadata": {
        "id": "3_HkzKpqD9OF"
      },
      "execution_count": null,
      "outputs": []
    },
    {
      "cell_type": "markdown",
      "source": [
        " L is a list defined as L={\"One\",\"Two\",\"Three\",\"Four\",\"Five\"}.\n",
        "WAP to count the length of reach element from a list and write to the file in the given below format:\n",
        "One, 3\n",
        "Two, 3\n",
        "Four, 4"
      ],
      "metadata": {
        "id": "aDgy2JqrGUKD"
      }
    },
    {
      "cell_type": "code",
      "source": [
        "L={\"One\",\"Two\",\"Three\",\"Four\",\"Five\"}\n",
        "F = open('output.txt','w')\n",
        "for i in L:\n",
        " F.write(\"%s, %d\\n\" % (i, len(i)))\n",
        "F.close()\n"
      ],
      "metadata": {
        "id": "D7_xE0fqGUxU"
      },
      "execution_count": 49,
      "outputs": []
    },
    {
      "cell_type": "markdown",
      "source": [
        "Write to the file 100 random strings whose length between 10 and 15."
      ],
      "metadata": {
        "id": "Su3xjKLuHKPw"
      }
    },
    {
      "cell_type": "code",
      "source": [
        "import random as r\n",
        "import string as s\n",
        "fp = open('output.txt', 'w')\n",
        "for i in range (0,100):\n",
        "  l = r.randint(10,15)\n",
        "  a = r.sample(s.ascii_letters,l)\n",
        "  fp.write(\"\".join(a)+\"\\n\")\n",
        "fp.close()\n"
      ],
      "metadata": {
        "id": "IbVA-de3HK09"
      },
      "execution_count": 51,
      "outputs": []
    },
    {
      "cell_type": "markdown",
      "source": [
        "Q10. Write to the file all prime numbers between 600 and 800."
      ],
      "metadata": {
        "id": "lQKFAIKBID_C"
      }
    },
    {
      "cell_type": "code",
      "source": [
        "fp = open('output.txt','w')\n",
        "for i in range (600,800):\n",
        "   for j in range (2,i):\n",
        "      if i%j==0:\n",
        "        break\n",
        "      else:\n",
        "           fp.write(f\"{i}\\n\")\n",
        "fp.close()\n"
      ],
      "metadata": {
        "id": "dJKQ8yRrIFd2"
      },
      "execution_count": 57,
      "outputs": []
    },
    {
      "cell_type": "markdown",
      "source": [
        "Q11. WAP to calculate the time taken by a program."
      ],
      "metadata": {
        "id": "nFdNpb4bJ-5v"
      }
    },
    {
      "cell_type": "code",
      "source": [
        "import time as t\n",
        "start = t.time()\n",
        "su= 0\n",
        "for i in range (0, 10000000):\n",
        "  a = i*5\n",
        "  su = su + a\n",
        "print(su)\n",
        "end = t.time()\n",
        "timetaken = end-start\n",
        "print(\"the time taken to run the program is \",timetaken)\n"
      ],
      "metadata": {
        "id": "E_tZD2gyJx5a"
      },
      "execution_count": null,
      "outputs": []
    },
    {
      "cell_type": "markdown",
      "source": [
        "Q12. WAP to sort following number of elements in a list, calculate time taken and plot the graph.\n",
        "Number of elements in list Time Taken\n",
        "\n",
        "5k - T1\n",
        "10k -T2\n",
        "15k -T3\n",
        "20k -T4\n",
        "25k -T5"
      ],
      "metadata": {
        "id": "nUzrY_AQYWdB"
      }
    },
    {
      "cell_type": "code",
      "source": [
        "import random as r\n",
        "import time as t\n",
        "\n",
        "L1 =[]\n",
        "L2 =[]\n",
        "L3 =[]\n",
        "L4 =[]\n",
        "L5 =[]\n",
        "\n",
        "L1 = r.sample(range(1,1000000),5000)\n",
        "L2= r.sample(range(1,1000000),10000)\n",
        "L3= r.sample(range(1,1000000),15000)\n",
        "L4= r.sample(range(1,1000000),20000)\n",
        "L5= r.sample(range(1,1000000),25000)\n",
        "L1.sorted()\n",
        "L2.sorted()\n",
        "L3.sorted()\n",
        "L4.sorted()\n",
        "L5.sorted()\n",
        "\n"
      ],
      "metadata": {
        "id": "49fvAxEFYyUr"
      },
      "execution_count": null,
      "outputs": []
    },
    {
      "cell_type": "code",
      "source": [
        "import random as r\n",
        "import time as t\n",
        "L1 =[]\n",
        "L2 =[]\n",
        "L3 =[]\n",
        "L4 =[]\n",
        "L5 =[]\n",
        "start1 = t.time()\n",
        "L1 = r.sample(range(1,1000000),5000)\n",
        "L1.sort()\n",
        "end1 = t.time()\n",
        "timetaken1 = end1-start1\n",
        "print(\"the time taken to run the program is \",timetaken1)\n",
        "\n",
        "start2 = t.time()\n",
        "L2 = r.sample(range(1,1000000),10000)\n",
        "L2.sort()\n",
        "end2 = t.time()\n",
        "timetaken2 = end2-start2\n",
        "print(\"the time taken to run the program is \",timetaken2)\n",
        "\n",
        "start3 = t.time()\n",
        "L3 = r.sample(range(1,1000000),15000)\n",
        "L3.sort()\n",
        "end3 = t.time()\n",
        "timetaken3 = end3-start3\n",
        "print(\"the time taken to run the program is \",timetaken3)\n",
        "\n",
        "start4 = t.time()\n",
        "L4 = r.sample(range(1,1000000),20000)\n",
        "L4.sort()\n",
        "end4 = t.time()\n",
        "timetaken4 = end4-start4\n",
        "print(\"the time taken to run the program is \",timetaken4)\n",
        "\n",
        "start5 = t.time()\n",
        "L5 = r.sample(range(1,1000000),25000)\n",
        "L5.sort()\n",
        "end5 = t.time()\n",
        "timetaken5 = end5-start5\n",
        "print(\"the time taken to run the program is \",timetaken5)\n",
        "import matplotlib.pyplot as plt\n",
        "\n",
        "x = [1,2,3,4,5]\n",
        "y = [timetaken1,timetaken2,timetaken3,timetaken4,timetaken5]\n",
        "\n",
        "plt.bar(x, y, color='skyblue')\n",
        "plt.xlabel(\"file name\")\n",
        "plt.ylabel(\"seconds\")\n",
        "plt.title(\"TIME TAKEN TO RUN THE PROGRAM \")\n",
        "plt.show()"
      ],
      "metadata": {
        "id": "GwJ5rdxJaEKh"
      },
      "execution_count": null,
      "outputs": []
    },
    {
      "cell_type": "markdown",
      "source": [
        "WAP to create a dictionary of student marks in five subjects and you have to find the student\n",
        "having maximum and minimum average marks."
      ],
      "metadata": {
        "id": "w-DM4L6Ccas1"
      }
    },
    {
      "cell_type": "code",
      "source": [
        "d = {'maths':80,'english':56,'hindi':75, 'science':65, 'sst':77}\n",
        "print(\"nax of marks\",max(d.values()))\n",
        "print(\"min of marks\",min(d.values()))\n",
        "print(\"average of marks\",sum(d.values())// len(d))"
      ],
      "metadata": {
        "id": "l4pH3mO9cbX1"
      },
      "execution_count": null,
      "outputs": []
    }
  ]
}